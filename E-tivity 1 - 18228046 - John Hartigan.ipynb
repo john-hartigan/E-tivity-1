{
 "cells": [
  {
   "cell_type": "markdown",
   "id": "c20570ad",
   "metadata": {},
   "source": [
    "## E-tivity 1 - Data Preprocessing and Training a Machine Learning Model\n",
    "\n",
    "Student Name: John\n",
    "\n",
    "Student Surname: Hartigan\n",
    "\n",
    "Student ID: 18228046\n",
    "\n",
    "Date of Final Submission: 16/10/2022"
   ]
  },
  {
   "cell_type": "markdown",
   "id": "54c3f9c7",
   "metadata": {},
   "source": [
    "## Step 1: Determing ML Model\n",
    "\n",
    "The target of this e-tivity is to build a machine learning model that will predict the future Bond Price. I've chosen to build a supervised linear regression model as the target requires a prediction of a continous value. This model will give a predicted value O based on an input value P. Plotting these points on a graph gives a good visualisation of the data which helps in intepreting it. The linear regression equation in it's simplest form is P = O*x + c, with b representing the slope of the line and c the intercept.\n"
   ]
  },
  {
   "cell_type": "code",
   "execution_count": 33,
   "id": "504105ec",
   "metadata": {},
   "outputs": [
    {
     "data": {
      "text/html": [
       "<div>\n",
       "<style scoped>\n",
       "    .dataframe tbody tr th:only-of-type {\n",
       "        vertical-align: middle;\n",
       "    }\n",
       "\n",
       "    .dataframe tbody tr th {\n",
       "        vertical-align: top;\n",
       "    }\n",
       "\n",
       "    .dataframe thead th {\n",
       "        text-align: right;\n",
       "    }\n",
       "</style>\n",
       "<table border=\"1\" class=\"dataframe\">\n",
       "  <thead>\n",
       "    <tr style=\"text-align: right;\">\n",
       "      <th></th>\n",
       "      <th>NoRelatedSym</th>\n",
       "      <th>Symbol</th>\n",
       "      <th>SymbolSfx</th>\n",
       "      <th>SecurityID</th>\n",
       "      <th>SecurityIDSource</th>\n",
       "      <th>SecurityType</th>\n",
       "      <th>MaturityDate</th>\n",
       "      <th>IssueDate</th>\n",
       "      <th>Side</th>\n",
       "      <th>OrderQty</th>\n",
       "      <th>...</th>\n",
       "      <th>NoPartIDs</th>\n",
       "      <th>PartyID</th>\n",
       "      <th>DealerID</th>\n",
       "      <th>DealerTraderID</th>\n",
       "      <th>CustomerTraderID</th>\n",
       "      <th>CustomerID</th>\n",
       "      <th>PartyIDSource</th>\n",
       "      <th>PartyRole</th>\n",
       "      <th>DealerCount</th>\n",
       "      <th>OrdSubType</th>\n",
       "    </tr>\n",
       "  </thead>\n",
       "  <tbody>\n",
       "    <tr>\n",
       "      <th>0</th>\n",
       "      <td>1</td>\n",
       "      <td>135087L93</td>\n",
       "      <td>WI</td>\n",
       "      <td>NaN</td>\n",
       "      <td>1</td>\n",
       "      <td>BOND</td>\n",
       "      <td>9/1/2026</td>\n",
       "      <td>4/16/2021 0:00</td>\n",
       "      <td>BUY</td>\n",
       "      <td>2400000</td>\n",
       "      <td>...</td>\n",
       "      <td>1</td>\n",
       "      <td>1</td>\n",
       "      <td>334</td>\n",
       "      <td>10792.0</td>\n",
       "      <td>6549</td>\n",
       "      <td>129</td>\n",
       "      <td>D</td>\n",
       "      <td>13</td>\n",
       "      <td>5</td>\n",
       "      <td>OUTRIGHT</td>\n",
       "    </tr>\n",
       "    <tr>\n",
       "      <th>1</th>\n",
       "      <td>1</td>\n",
       "      <td>135087L93</td>\n",
       "      <td>WI</td>\n",
       "      <td>NaN</td>\n",
       "      <td>1</td>\n",
       "      <td>BOND</td>\n",
       "      <td>9/1/2026</td>\n",
       "      <td>4/16/2021 0:00</td>\n",
       "      <td>BUY</td>\n",
       "      <td>2400000</td>\n",
       "      <td>...</td>\n",
       "      <td>1</td>\n",
       "      <td>1</td>\n",
       "      <td>335</td>\n",
       "      <td>117793.0</td>\n",
       "      <td>6549</td>\n",
       "      <td>129</td>\n",
       "      <td>D</td>\n",
       "      <td>13</td>\n",
       "      <td>5</td>\n",
       "      <td>OUTRIGHT</td>\n",
       "    </tr>\n",
       "    <tr>\n",
       "      <th>2</th>\n",
       "      <td>1</td>\n",
       "      <td>135087L93</td>\n",
       "      <td>WI</td>\n",
       "      <td>NaN</td>\n",
       "      <td>1</td>\n",
       "      <td>BOND</td>\n",
       "      <td>9/1/2026</td>\n",
       "      <td>4/16/2021 0:00</td>\n",
       "      <td>BUY</td>\n",
       "      <td>2400000</td>\n",
       "      <td>...</td>\n",
       "      <td>1</td>\n",
       "      <td>1</td>\n",
       "      <td>325</td>\n",
       "      <td>119290.0</td>\n",
       "      <td>6549</td>\n",
       "      <td>129</td>\n",
       "      <td>D</td>\n",
       "      <td>13</td>\n",
       "      <td>5</td>\n",
       "      <td>OUTRIGHT</td>\n",
       "    </tr>\n",
       "    <tr>\n",
       "      <th>3</th>\n",
       "      <td>1</td>\n",
       "      <td>135087L93</td>\n",
       "      <td>WI</td>\n",
       "      <td>NaN</td>\n",
       "      <td>1</td>\n",
       "      <td>BOND</td>\n",
       "      <td>9/1/2026</td>\n",
       "      <td>4/16/2021 0:00</td>\n",
       "      <td>BUY</td>\n",
       "      <td>2400000</td>\n",
       "      <td>...</td>\n",
       "      <td>1</td>\n",
       "      <td>1</td>\n",
       "      <td>327</td>\n",
       "      <td>113852.0</td>\n",
       "      <td>6549</td>\n",
       "      <td>129</td>\n",
       "      <td>D</td>\n",
       "      <td>13</td>\n",
       "      <td>5</td>\n",
       "      <td>OUTRIGHT</td>\n",
       "    </tr>\n",
       "    <tr>\n",
       "      <th>4</th>\n",
       "      <td>1</td>\n",
       "      <td>135087L93</td>\n",
       "      <td>WI</td>\n",
       "      <td>NaN</td>\n",
       "      <td>1</td>\n",
       "      <td>BOND</td>\n",
       "      <td>9/1/2026</td>\n",
       "      <td>4/16/2021 0:00</td>\n",
       "      <td>BUY</td>\n",
       "      <td>2400000</td>\n",
       "      <td>...</td>\n",
       "      <td>1</td>\n",
       "      <td>1</td>\n",
       "      <td>337</td>\n",
       "      <td>117795.0</td>\n",
       "      <td>6549</td>\n",
       "      <td>129</td>\n",
       "      <td>D</td>\n",
       "      <td>13</td>\n",
       "      <td>5</td>\n",
       "      <td>OUTRIGHT</td>\n",
       "    </tr>\n",
       "    <tr>\n",
       "      <th>5</th>\n",
       "      <td>1</td>\n",
       "      <td>135087M76</td>\n",
       "      <td>WI</td>\n",
       "      <td>NaN</td>\n",
       "      <td>1</td>\n",
       "      <td>BOND</td>\n",
       "      <td>11/1/2023</td>\n",
       "      <td>8/9/2021 0:00</td>\n",
       "      <td>SELL</td>\n",
       "      <td>15000000</td>\n",
       "      <td>...</td>\n",
       "      <td>1</td>\n",
       "      <td>1</td>\n",
       "      <td>325</td>\n",
       "      <td>119752.0</td>\n",
       "      <td>7019</td>\n",
       "      <td>277</td>\n",
       "      <td>D</td>\n",
       "      <td>13</td>\n",
       "      <td>4</td>\n",
       "      <td>OUTRIGHT</td>\n",
       "    </tr>\n",
       "    <tr>\n",
       "      <th>6</th>\n",
       "      <td>1</td>\n",
       "      <td>135087M76</td>\n",
       "      <td>WI</td>\n",
       "      <td>NaN</td>\n",
       "      <td>1</td>\n",
       "      <td>BOND</td>\n",
       "      <td>11/1/2023</td>\n",
       "      <td>8/9/2021 0:00</td>\n",
       "      <td>SELL</td>\n",
       "      <td>15000000</td>\n",
       "      <td>...</td>\n",
       "      <td>1</td>\n",
       "      <td>1</td>\n",
       "      <td>336</td>\n",
       "      <td>117794.0</td>\n",
       "      <td>7019</td>\n",
       "      <td>277</td>\n",
       "      <td>D</td>\n",
       "      <td>13</td>\n",
       "      <td>4</td>\n",
       "      <td>OUTRIGHT</td>\n",
       "    </tr>\n",
       "    <tr>\n",
       "      <th>7</th>\n",
       "      <td>1</td>\n",
       "      <td>135087M76</td>\n",
       "      <td>WI</td>\n",
       "      <td>NaN</td>\n",
       "      <td>1</td>\n",
       "      <td>BOND</td>\n",
       "      <td>11/1/2023</td>\n",
       "      <td>8/9/2021 0:00</td>\n",
       "      <td>SELL</td>\n",
       "      <td>15000000</td>\n",
       "      <td>...</td>\n",
       "      <td>1</td>\n",
       "      <td>1</td>\n",
       "      <td>323</td>\n",
       "      <td>117786.0</td>\n",
       "      <td>7019</td>\n",
       "      <td>277</td>\n",
       "      <td>D</td>\n",
       "      <td>13</td>\n",
       "      <td>4</td>\n",
       "      <td>OUTRIGHT</td>\n",
       "    </tr>\n",
       "    <tr>\n",
       "      <th>8</th>\n",
       "      <td>1</td>\n",
       "      <td>135087M76</td>\n",
       "      <td>WI</td>\n",
       "      <td>NaN</td>\n",
       "      <td>1</td>\n",
       "      <td>BOND</td>\n",
       "      <td>11/1/2023</td>\n",
       "      <td>8/9/2021 0:00</td>\n",
       "      <td>SELL</td>\n",
       "      <td>15000000</td>\n",
       "      <td>...</td>\n",
       "      <td>1</td>\n",
       "      <td>1</td>\n",
       "      <td>337</td>\n",
       "      <td>117795.0</td>\n",
       "      <td>7019</td>\n",
       "      <td>277</td>\n",
       "      <td>D</td>\n",
       "      <td>13</td>\n",
       "      <td>4</td>\n",
       "      <td>OUTRIGHT</td>\n",
       "    </tr>\n",
       "    <tr>\n",
       "      <th>9</th>\n",
       "      <td>1</td>\n",
       "      <td>135087L93</td>\n",
       "      <td>WI</td>\n",
       "      <td>NaN</td>\n",
       "      <td>1</td>\n",
       "      <td>BOND</td>\n",
       "      <td>9/1/2026</td>\n",
       "      <td>4/16/2021 0:00</td>\n",
       "      <td>SELL</td>\n",
       "      <td>600000</td>\n",
       "      <td>...</td>\n",
       "      <td>1</td>\n",
       "      <td>1</td>\n",
       "      <td>335</td>\n",
       "      <td>117793.0</td>\n",
       "      <td>11532</td>\n",
       "      <td>177</td>\n",
       "      <td>D</td>\n",
       "      <td>13</td>\n",
       "      <td>4</td>\n",
       "      <td>OUTRIGHT</td>\n",
       "    </tr>\n",
       "  </tbody>\n",
       "</table>\n",
       "<p>10 rows × 27 columns</p>\n",
       "</div>"
      ],
      "text/plain": [
       "   NoRelatedSym     Symbol SymbolSfx  SecurityID  SecurityIDSource  \\\n",
       "0             1  135087L93        WI         NaN                 1   \n",
       "1             1  135087L93        WI         NaN                 1   \n",
       "2             1  135087L93        WI         NaN                 1   \n",
       "3             1  135087L93        WI         NaN                 1   \n",
       "4             1  135087L93        WI         NaN                 1   \n",
       "5             1  135087M76        WI         NaN                 1   \n",
       "6             1  135087M76        WI         NaN                 1   \n",
       "7             1  135087M76        WI         NaN                 1   \n",
       "8             1  135087M76        WI         NaN                 1   \n",
       "9             1  135087L93        WI         NaN                 1   \n",
       "\n",
       "  SecurityType MaturityDate       IssueDate  Side  OrderQty  ... NoPartIDs  \\\n",
       "0         BOND     9/1/2026  4/16/2021 0:00   BUY   2400000  ...         1   \n",
       "1         BOND     9/1/2026  4/16/2021 0:00   BUY   2400000  ...         1   \n",
       "2         BOND     9/1/2026  4/16/2021 0:00   BUY   2400000  ...         1   \n",
       "3         BOND     9/1/2026  4/16/2021 0:00   BUY   2400000  ...         1   \n",
       "4         BOND     9/1/2026  4/16/2021 0:00   BUY   2400000  ...         1   \n",
       "5         BOND    11/1/2023   8/9/2021 0:00  SELL  15000000  ...         1   \n",
       "6         BOND    11/1/2023   8/9/2021 0:00  SELL  15000000  ...         1   \n",
       "7         BOND    11/1/2023   8/9/2021 0:00  SELL  15000000  ...         1   \n",
       "8         BOND    11/1/2023   8/9/2021 0:00  SELL  15000000  ...         1   \n",
       "9         BOND     9/1/2026  4/16/2021 0:00  SELL    600000  ...         1   \n",
       "\n",
       "  PartyID  DealerID DealerTraderID  CustomerTraderID  CustomerID  \\\n",
       "0       1       334        10792.0              6549         129   \n",
       "1       1       335       117793.0              6549         129   \n",
       "2       1       325       119290.0              6549         129   \n",
       "3       1       327       113852.0              6549         129   \n",
       "4       1       337       117795.0              6549         129   \n",
       "5       1       325       119752.0              7019         277   \n",
       "6       1       336       117794.0              7019         277   \n",
       "7       1       323       117786.0              7019         277   \n",
       "8       1       337       117795.0              7019         277   \n",
       "9       1       335       117793.0             11532         177   \n",
       "\n",
       "   PartyIDSource  PartyRole  DealerCount  OrdSubType  \n",
       "0              D         13            5    OUTRIGHT  \n",
       "1              D         13            5    OUTRIGHT  \n",
       "2              D         13            5    OUTRIGHT  \n",
       "3              D         13            5    OUTRIGHT  \n",
       "4              D         13            5    OUTRIGHT  \n",
       "5              D         13            4    OUTRIGHT  \n",
       "6              D         13            4    OUTRIGHT  \n",
       "7              D         13            4    OUTRIGHT  \n",
       "8              D         13            4    OUTRIGHT  \n",
       "9              D         13            4    OUTRIGHT  \n",
       "\n",
       "[10 rows x 27 columns]"
      ]
     },
     "execution_count": 33,
     "metadata": {},
     "output_type": "execute_result"
    }
   ],
   "source": [
    "import pandas as pd\n",
    "\n",
    "url_dataset = \"https://raw.githubusercontent.com/evassev/CS6501_SEM2_2022/main/Etivities/data/trade_combined.csv\"\n",
    "df = pd.read_csv(url_dataset)\n",
    "\n",
    "df.head(10)"
   ]
  },
  {
   "cell_type": "markdown",
   "id": "8cb3e658",
   "metadata": {},
   "source": [
    "## Step 2.1: Specifics of the dataset"
   ]
  },
  {
   "cell_type": "code",
   "execution_count": 2,
   "id": "6dcd6060",
   "metadata": {},
   "outputs": [
    {
     "data": {
      "text/plain": [
       "(20000, 27)"
      ]
     },
     "execution_count": 2,
     "metadata": {},
     "output_type": "execute_result"
    }
   ],
   "source": [
    "df.shape"
   ]
  },
  {
   "cell_type": "code",
   "execution_count": 3,
   "id": "e584e34f",
   "metadata": {},
   "outputs": [
    {
     "data": {
      "text/plain": [
       "Index(['NoRelatedSym', 'Symbol', 'SymbolSfx', 'SecurityID', 'SecurityIDSource',\n",
       "       'SecurityType', 'MaturityDate', 'IssueDate', 'Side', 'OrderQty',\n",
       "       'SettlDate', 'Currency', 'OrdType', 'TransactTime', 'Price',\n",
       "       'PriceType', 'Yield', 'NoPartIDs', 'PartyID', 'DealerID',\n",
       "       'DealerTraderID', 'CustomerTraderID', 'CustomerID', 'PartyIDSource',\n",
       "       'PartyRole', 'DealerCount', 'OrdSubType'],\n",
       "      dtype='object')"
      ]
     },
     "execution_count": 3,
     "metadata": {},
     "output_type": "execute_result"
    }
   ],
   "source": [
    "df.columns"
   ]
  },
  {
   "cell_type": "code",
   "execution_count": 4,
   "id": "dfe65ab2",
   "metadata": {},
   "outputs": [
    {
     "data": {
      "text/plain": [
       "NoRelatedSym          int64\n",
       "Symbol               object\n",
       "SymbolSfx            object\n",
       "SecurityID          float64\n",
       "SecurityIDSource      int64\n",
       "SecurityType         object\n",
       "MaturityDate         object\n",
       "IssueDate            object\n",
       "Side                 object\n",
       "OrderQty              int64\n",
       "SettlDate            object\n",
       "Currency             object\n",
       "OrdType               int64\n",
       "TransactTime         object\n",
       "Price               float64\n",
       "PriceType             int64\n",
       "Yield               float64\n",
       "NoPartIDs             int64\n",
       "PartyID               int64\n",
       "DealerID              int64\n",
       "DealerTraderID      float64\n",
       "CustomerTraderID      int64\n",
       "CustomerID            int64\n",
       "PartyIDSource        object\n",
       "PartyRole             int64\n",
       "DealerCount           int64\n",
       "OrdSubType           object\n",
       "dtype: object"
      ]
     },
     "execution_count": 4,
     "metadata": {},
     "output_type": "execute_result"
    }
   ],
   "source": [
    "df.dtypes"
   ]
  },
  {
   "cell_type": "code",
   "execution_count": 5,
   "id": "fe6849c9",
   "metadata": {},
   "outputs": [],
   "source": [
    "Price = df[\"Price\"]"
   ]
  },
  {
   "cell_type": "code",
   "execution_count": 17,
   "id": "061c1d01",
   "metadata": {},
   "outputs": [
    {
     "data": {
      "text/plain": [
       "count    18692.000000\n",
       "mean       107.535666\n",
       "std         14.445474\n",
       "min          0.000000\n",
       "25%         99.749750\n",
       "50%        103.324500\n",
       "75%        110.360500\n",
       "max        174.278000\n",
       "Name: Price, dtype: float64"
      ]
     },
     "execution_count": 17,
     "metadata": {},
     "output_type": "execute_result"
    }
   ],
   "source": [
    "df.describe().Price"
   ]
  },
  {
   "cell_type": "code",
   "execution_count": 22,
   "id": "fc54c7a9",
   "metadata": {},
   "outputs": [
    {
     "data": {
      "text/plain": [
       "0.000      37\n",
       "98.600     28\n",
       "99.770     24\n",
       "98.610     19\n",
       "98.620     18\n",
       "           ..\n",
       "121.649     1\n",
       "155.661     1\n",
       "124.094     1\n",
       "148.223     1\n",
       "109.099     1\n",
       "Name: Price, Length: 12112, dtype: int64"
      ]
     },
     "execution_count": 22,
     "metadata": {},
     "output_type": "execute_result"
    }
   ],
   "source": [
    "df['Price'].value_counts()"
   ]
  },
  {
   "cell_type": "code",
   "execution_count": 27,
   "id": "d1c10d3a",
   "metadata": {},
   "outputs": [],
   "source": [
    "from scipy import stats"
   ]
  },
  {
   "cell_type": "code",
   "execution_count": 32,
   "id": "2d164c2f",
   "metadata": {},
   "outputs": [],
   "source": [
    "import matplotlib.pyplot as plt"
   ]
  },
  {
   "cell_type": "code",
   "execution_count": 10,
   "id": "21090cf3",
   "metadata": {},
   "outputs": [],
   "source": [
    "import numpy as np\n",
    "import pandas as pd"
   ]
  },
  {
   "cell_type": "code",
   "execution_count": 4,
   "id": "9b2850de",
   "metadata": {},
   "outputs": [
    {
     "data": {
      "text/plain": [
       "<AxesSubplot:ylabel='Frequency'>"
      ]
     },
     "execution_count": 4,
     "metadata": {},
     "output_type": "execute_result"
    },
    {
     "data": {
      "image/png": "[encoded data removed]",
      "text/plain": [
       "<Figure size 432x288 with 1 Axes>"
      ]
     },
     "metadata": {
      "needs_background": "light"
     },
     "output_type": "display_data"
    }
   ],
   "source": [
    "df['Price'].plot.hist()"
   ]
  },
  {
   "cell_type": "code",
   "execution_count": 5,
   "id": "e7c7926f",
   "metadata": {},
   "outputs": [
    {
     "data": {
      "text/plain": [
       "<AxesSubplot:ylabel='Density'>"
      ]
     },
     "execution_count": 5,
     "metadata": {},
     "output_type": "execute_result"
    },
    {
     "data": {
      "image/png": "[encoded data removed]",
      "text/plain": [
       "<Figure size 432x288 with 1 Axes>"
      ]
     },
     "metadata": {
      "needs_background": "light"
     },
     "output_type": "display_data"
    }
   ],
   "source": [
    "df['Price'].plot.density()"
   ]
  },
  {
   "cell_type": "code",
   "execution_count": 6,
   "id": "317c22f5",
   "metadata": {},
   "outputs": [
    {
     "data": {
      "text/plain": [
       "<AxesSubplot:>"
      ]
     },
     "execution_count": 6,
     "metadata": {},
     "output_type": "execute_result"
    },
    {
     "data": {
      "image/png": "[encoded data removed]",
      "text/plain": [
       "<Figure size 432x288 with 1 Axes>"
      ]
     },
     "metadata": {
      "needs_background": "light"
     },
     "output_type": "display_data"
    }
   ],
   "source": [
    "df['Price'].plot.box()"
   ]
  },
  {
   "cell_type": "markdown",
   "id": "89a7fdb9",
   "metadata": {},
   "source": [
    "## Step 2.2: Data Cleaning: Remove features with unique values for each row in the dataset\n",
    "\n",
    "Unique values add no value to buiding a ML algorithim for prediction so when cleaning your dataset it is best to remove these values."
   ]
  },
  {
   "cell_type": "code",
   "execution_count": 34,
   "id": "af9b7550",
   "metadata": {},
   "outputs": [
    {
     "name": "stdout",
     "output_type": "stream",
     "text": [
      "In NoRelatedSym  there are  1  out of  20000\n",
      "In Symbol  there are  411  out of  20000\n",
      "In SymbolSfx  there are  1  out of  20000\n",
      "In SecurityID  there are  1913  out of  6041\n",
      "In SecurityIDSource  there are  1  out of  20000\n",
      "In SecurityType  there are  4  out of  20000\n",
      "In MaturityDate  there are  311  out of  20000\n",
      "In IssueDate  there are  402  out of  20000\n",
      "In Side  there are  2  out of  20000\n",
      "In OrderQty  there are  1249  out of  20000\n",
      "In SettlDate  there are  99  out of  20000\n",
      "In Currency  there are  1  out of  20000\n",
      "In OrdType  there are  1  out of  20000\n",
      "In TransactTime  there are  4130  out of  20000\n",
      "In Price  there are  12113  out of  18692\n",
      "In PriceType  there are  1  out of  20000\n",
      "In Yield  there are  3288  out of  18703\n",
      "In NoPartIDs  there are  1  out of  20000\n",
      "In PartyID  there are  1  out of  20000\n",
      "In DealerID  there are  14  out of  20000\n",
      "In DealerTraderID  there are  161  out of  18945\n",
      "In CustomerTraderID  there are  389  out of  20000\n",
      "In CustomerID  there are  170  out of  20000\n",
      "In PartyIDSource  there are  1  out of  20000\n",
      "In PartyRole  there are  1  out of  20000\n",
      "In DealerCount  there are  5  out of  20000\n",
      "In OrdSubType  there are  1  out of  20000\n"
     ]
    }
   ],
   "source": [
    "for column in df.columns:\n",
    "    counter=df[column].count()\n",
    "    uniquevalue=len(df[column].unique())\n",
    "    print('In', column, ' there are ',uniquevalue,' out of ',counter)\n",
    "    "
   ]
  },
  {
   "cell_type": "code",
   "execution_count": 8,
   "id": "7321eb14",
   "metadata": {},
   "outputs": [
    {
     "data": {
      "text/plain": [
       "0        1\n",
       "1        1\n",
       "2        1\n",
       "3        1\n",
       "4        1\n",
       "        ..\n",
       "19995    1\n",
       "19996    1\n",
       "19997    1\n",
       "19998    1\n",
       "19999    1\n",
       "Name: NoRelatedSym, Length: 20000, dtype: int64"
      ]
     },
     "execution_count": 8,
     "metadata": {},
     "output_type": "execute_result"
    }
   ],
   "source": [
    "df['NoRelatedSym']"
   ]
  },
  {
   "cell_type": "markdown",
   "id": "0c429b3a",
   "metadata": {},
   "source": [
    "## Step 2.3: Data Cleaning: Remove features with one unique value for the entire dataset.\n"
   ]
  },
  {
   "cell_type": "code",
   "execution_count": 35,
   "id": "472c492b",
   "metadata": {},
   "outputs": [
    {
     "name": "stdout",
     "output_type": "stream",
     "text": [
      "NoRelatedSym has been removed\n",
      "SymbolSfx has been removed\n",
      "SecurityIDSource has been removed\n",
      "Currency has been removed\n",
      "OrdType has been removed\n",
      "PriceType has been removed\n",
      "NoPartIDs has been removed\n",
      "PartyID has been removed\n",
      "PartyIDSource has been removed\n",
      "PartyRole has been removed\n",
      "OrdSubType has been removed\n"
     ]
    }
   ],
   "source": [
    "removedcolumns=0\n",
    "for column in df.columns:\n",
    "    uniquevalues=len(df[column].unique())\n",
    "    \n",
    "    if(uniquevalues==1):\n",
    "        df.drop(column, axis=1, inplace=True)\n",
    "        print(column, 'has been removed')\n",
    "        removedcolumns=removedcolumns+1\n",
    "if removedcolumns==0:\n",
    "    print('no columns were removed')"
   ]
  },
  {
   "cell_type": "code",
   "execution_count": 36,
   "id": "dc05d1e8",
   "metadata": {},
   "outputs": [
    {
     "data": {
      "text/plain": [
       "11"
      ]
     },
     "execution_count": 36,
     "metadata": {},
     "output_type": "execute_result"
    }
   ],
   "source": [
    "removedcolumns"
   ]
  },
  {
   "cell_type": "markdown",
   "id": "9e600420",
   "metadata": {},
   "source": [
    "## Step 2.4: Data Cleaning: Remove records with null (NAN) values\n",
    "Null values are used where you want to indicate that you could have a value but are unsure of what it should be. They serve as placeholders while you gather the information required to actually populate the table field with a genuine value. Never mistake NULL values for zeros or empty strings. It is best to remove these values before training the ML algorithim."
   ]
  },
  {
   "cell_type": "code",
   "execution_count": 37,
   "id": "c987cfa8",
   "metadata": {},
   "outputs": [
    {
     "name": "stdout",
     "output_type": "stream",
     "text": [
      "In  Symbol there are  0 nulls\n",
      "In  SecurityID there are  13959 nulls\n",
      "In  SecurityType there are  0 nulls\n",
      "In  MaturityDate there are  0 nulls\n",
      "In  IssueDate there are  0 nulls\n",
      "In  Side there are  0 nulls\n",
      "In  OrderQty there are  0 nulls\n",
      "In  SettlDate there are  0 nulls\n",
      "In  TransactTime there are  0 nulls\n",
      "In  Price there are  1308 nulls\n",
      "In  Yield there are  1297 nulls\n",
      "In  DealerID there are  0 nulls\n",
      "In  DealerTraderID there are  1055 nulls\n",
      "In  CustomerTraderID there are  0 nulls\n",
      "In  CustomerID there are  0 nulls\n",
      "In  DealerCount there are  0 nulls\n"
     ]
    }
   ],
   "source": [
    "for column in df.columns:\n",
    "    numnulls=df[column].isnull().sum()\n",
    "    print('In ', column, 'there are ', numnulls, 'nulls')"
   ]
  },
  {
   "cell_type": "code",
   "execution_count": 38,
   "id": "dab2ae04",
   "metadata": {},
   "outputs": [
    {
     "data": {
      "text/html": [
       "<div>\n",
       "<style scoped>\n",
       "    .dataframe tbody tr th:only-of-type {\n",
       "        vertical-align: middle;\n",
       "    }\n",
       "\n",
       "    .dataframe tbody tr th {\n",
       "        vertical-align: top;\n",
       "    }\n",
       "\n",
       "    .dataframe thead th {\n",
       "        text-align: right;\n",
       "    }\n",
       "</style>\n",
       "<table border=\"1\" class=\"dataframe\">\n",
       "  <thead>\n",
       "    <tr style=\"text-align: right;\">\n",
       "      <th></th>\n",
       "      <th>Symbol</th>\n",
       "      <th>SecurityID</th>\n",
       "      <th>SecurityType</th>\n",
       "      <th>MaturityDate</th>\n",
       "      <th>IssueDate</th>\n",
       "      <th>Side</th>\n",
       "      <th>OrderQty</th>\n",
       "      <th>SettlDate</th>\n",
       "      <th>TransactTime</th>\n",
       "      <th>Price</th>\n",
       "      <th>Yield</th>\n",
       "      <th>DealerID</th>\n",
       "      <th>DealerTraderID</th>\n",
       "      <th>CustomerTraderID</th>\n",
       "      <th>CustomerID</th>\n",
       "      <th>DealerCount</th>\n",
       "    </tr>\n",
       "  </thead>\n",
       "  <tbody>\n",
       "    <tr>\n",
       "      <th>0</th>\n",
       "      <td>135087L93</td>\n",
       "      <td>NaN</td>\n",
       "      <td>BOND</td>\n",
       "      <td>9/1/2026</td>\n",
       "      <td>4/16/2021 0:00</td>\n",
       "      <td>BUY</td>\n",
       "      <td>2400000</td>\n",
       "      <td>12/16/2021</td>\n",
       "      <td>15:20:43</td>\n",
       "      <td>NaN</td>\n",
       "      <td>NaN</td>\n",
       "      <td>334</td>\n",
       "      <td>10792.0</td>\n",
       "      <td>6549</td>\n",
       "      <td>129</td>\n",
       "      <td>5</td>\n",
       "    </tr>\n",
       "    <tr>\n",
       "      <th>1</th>\n",
       "      <td>135087L93</td>\n",
       "      <td>NaN</td>\n",
       "      <td>BOND</td>\n",
       "      <td>9/1/2026</td>\n",
       "      <td>4/16/2021 0:00</td>\n",
       "      <td>BUY</td>\n",
       "      <td>2400000</td>\n",
       "      <td>12/16/2021</td>\n",
       "      <td>15:20:43</td>\n",
       "      <td>98.720</td>\n",
       "      <td>1.281</td>\n",
       "      <td>335</td>\n",
       "      <td>117793.0</td>\n",
       "      <td>6549</td>\n",
       "      <td>129</td>\n",
       "      <td>5</td>\n",
       "    </tr>\n",
       "    <tr>\n",
       "      <th>2</th>\n",
       "      <td>135087L93</td>\n",
       "      <td>NaN</td>\n",
       "      <td>BOND</td>\n",
       "      <td>9/1/2026</td>\n",
       "      <td>4/16/2021 0:00</td>\n",
       "      <td>BUY</td>\n",
       "      <td>2400000</td>\n",
       "      <td>12/16/2021</td>\n",
       "      <td>15:20:43</td>\n",
       "      <td>98.720</td>\n",
       "      <td>1.281</td>\n",
       "      <td>325</td>\n",
       "      <td>119290.0</td>\n",
       "      <td>6549</td>\n",
       "      <td>129</td>\n",
       "      <td>5</td>\n",
       "    </tr>\n",
       "    <tr>\n",
       "      <th>3</th>\n",
       "      <td>135087L93</td>\n",
       "      <td>NaN</td>\n",
       "      <td>BOND</td>\n",
       "      <td>9/1/2026</td>\n",
       "      <td>4/16/2021 0:00</td>\n",
       "      <td>BUY</td>\n",
       "      <td>2400000</td>\n",
       "      <td>12/16/2021</td>\n",
       "      <td>15:20:43</td>\n",
       "      <td>98.711</td>\n",
       "      <td>1.283</td>\n",
       "      <td>327</td>\n",
       "      <td>113852.0</td>\n",
       "      <td>6549</td>\n",
       "      <td>129</td>\n",
       "      <td>5</td>\n",
       "    </tr>\n",
       "    <tr>\n",
       "      <th>4</th>\n",
       "      <td>135087L93</td>\n",
       "      <td>NaN</td>\n",
       "      <td>BOND</td>\n",
       "      <td>9/1/2026</td>\n",
       "      <td>4/16/2021 0:00</td>\n",
       "      <td>BUY</td>\n",
       "      <td>2400000</td>\n",
       "      <td>12/16/2021</td>\n",
       "      <td>15:20:43</td>\n",
       "      <td>98.699</td>\n",
       "      <td>1.286</td>\n",
       "      <td>337</td>\n",
       "      <td>117795.0</td>\n",
       "      <td>6549</td>\n",
       "      <td>129</td>\n",
       "      <td>5</td>\n",
       "    </tr>\n",
       "    <tr>\n",
       "      <th>...</th>\n",
       "      <td>...</td>\n",
       "      <td>...</td>\n",
       "      <td>...</td>\n",
       "      <td>...</td>\n",
       "      <td>...</td>\n",
       "      <td>...</td>\n",
       "      <td>...</td>\n",
       "      <td>...</td>\n",
       "      <td>...</td>\n",
       "      <td>...</td>\n",
       "      <td>...</td>\n",
       "      <td>...</td>\n",
       "      <td>...</td>\n",
       "      <td>...</td>\n",
       "      <td>...</td>\n",
       "      <td>...</td>\n",
       "    </tr>\n",
       "    <tr>\n",
       "      <th>19995</th>\n",
       "      <td>135087A38</td>\n",
       "      <td>147039.0</td>\n",
       "      <td>GOC</td>\n",
       "      <td>8/1/2015</td>\n",
       "      <td>4/26/2013 0:00</td>\n",
       "      <td>SELL</td>\n",
       "      <td>12000000</td>\n",
       "      <td>6/24/2013</td>\n",
       "      <td>14:51:56</td>\n",
       "      <td>100.651</td>\n",
       "      <td>1.186</td>\n",
       "      <td>334</td>\n",
       "      <td>10792.0</td>\n",
       "      <td>7025</td>\n",
       "      <td>280</td>\n",
       "      <td>4</td>\n",
       "    </tr>\n",
       "    <tr>\n",
       "      <th>19996</th>\n",
       "      <td>135087A38</td>\n",
       "      <td>147038.0</td>\n",
       "      <td>GOC</td>\n",
       "      <td>8/1/2015</td>\n",
       "      <td>4/26/2013 0:00</td>\n",
       "      <td>BUY</td>\n",
       "      <td>50000000</td>\n",
       "      <td>6/24/2013</td>\n",
       "      <td>14:51:53</td>\n",
       "      <td>100.653</td>\n",
       "      <td>1.185</td>\n",
       "      <td>334</td>\n",
       "      <td>10792.0</td>\n",
       "      <td>6753</td>\n",
       "      <td>204</td>\n",
       "      <td>1</td>\n",
       "    </tr>\n",
       "    <tr>\n",
       "      <th>19997</th>\n",
       "      <td>013051CZ8</td>\n",
       "      <td>147033.0</td>\n",
       "      <td>PROV</td>\n",
       "      <td>12/1/2019</td>\n",
       "      <td>9/28/2009 0:00</td>\n",
       "      <td>SELL</td>\n",
       "      <td>700000</td>\n",
       "      <td>6/25/2013</td>\n",
       "      <td>14:50:59</td>\n",
       "      <td>109.000</td>\n",
       "      <td>2.478</td>\n",
       "      <td>332</td>\n",
       "      <td>10567.0</td>\n",
       "      <td>7053</td>\n",
       "      <td>292</td>\n",
       "      <td>4</td>\n",
       "    </tr>\n",
       "    <tr>\n",
       "      <th>19998</th>\n",
       "      <td>135087A38</td>\n",
       "      <td>147039.0</td>\n",
       "      <td>GOC</td>\n",
       "      <td>8/1/2015</td>\n",
       "      <td>4/26/2013 0:00</td>\n",
       "      <td>SELL</td>\n",
       "      <td>12000000</td>\n",
       "      <td>6/24/2013</td>\n",
       "      <td>14:51:56</td>\n",
       "      <td>100.645</td>\n",
       "      <td>1.189</td>\n",
       "      <td>330</td>\n",
       "      <td>9970.0</td>\n",
       "      <td>7025</td>\n",
       "      <td>280</td>\n",
       "      <td>4</td>\n",
       "    </tr>\n",
       "    <tr>\n",
       "      <th>19999</th>\n",
       "      <td>013051CZ8</td>\n",
       "      <td>147033.0</td>\n",
       "      <td>PROV</td>\n",
       "      <td>12/1/2019</td>\n",
       "      <td>9/28/2009 0:00</td>\n",
       "      <td>SELL</td>\n",
       "      <td>700000</td>\n",
       "      <td>6/25/2013</td>\n",
       "      <td>14:50:59</td>\n",
       "      <td>109.099</td>\n",
       "      <td>2.462</td>\n",
       "      <td>330</td>\n",
       "      <td>10189.0</td>\n",
       "      <td>7053</td>\n",
       "      <td>292</td>\n",
       "      <td>4</td>\n",
       "    </tr>\n",
       "  </tbody>\n",
       "</table>\n",
       "<p>20000 rows × 16 columns</p>\n",
       "</div>"
      ],
      "text/plain": [
       "          Symbol  SecurityID SecurityType MaturityDate       IssueDate  Side  \\\n",
       "0      135087L93         NaN         BOND     9/1/2026  4/16/2021 0:00   BUY   \n",
       "1      135087L93         NaN         BOND     9/1/2026  4/16/2021 0:00   BUY   \n",
       "2      135087L93         NaN         BOND     9/1/2026  4/16/2021 0:00   BUY   \n",
       "3      135087L93         NaN         BOND     9/1/2026  4/16/2021 0:00   BUY   \n",
       "4      135087L93         NaN         BOND     9/1/2026  4/16/2021 0:00   BUY   \n",
       "...          ...         ...          ...          ...             ...   ...   \n",
       "19995  135087A38    147039.0          GOC     8/1/2015  4/26/2013 0:00  SELL   \n",
       "19996  135087A38    147038.0          GOC     8/1/2015  4/26/2013 0:00   BUY   \n",
       "19997  013051CZ8    147033.0         PROV    12/1/2019  9/28/2009 0:00  SELL   \n",
       "19998  135087A38    147039.0          GOC     8/1/2015  4/26/2013 0:00  SELL   \n",
       "19999  013051CZ8    147033.0         PROV    12/1/2019  9/28/2009 0:00  SELL   \n",
       "\n",
       "       OrderQty   SettlDate TransactTime    Price  Yield  DealerID  \\\n",
       "0       2400000  12/16/2021     15:20:43      NaN    NaN       334   \n",
       "1       2400000  12/16/2021     15:20:43   98.720  1.281       335   \n",
       "2       2400000  12/16/2021     15:20:43   98.720  1.281       325   \n",
       "3       2400000  12/16/2021     15:20:43   98.711  1.283       327   \n",
       "4       2400000  12/16/2021     15:20:43   98.699  1.286       337   \n",
       "...         ...         ...          ...      ...    ...       ...   \n",
       "19995  12000000   6/24/2013     14:51:56  100.651  1.186       334   \n",
       "19996  50000000   6/24/2013     14:51:53  100.653  1.185       334   \n",
       "19997    700000   6/25/2013     14:50:59  109.000  2.478       332   \n",
       "19998  12000000   6/24/2013     14:51:56  100.645  1.189       330   \n",
       "19999    700000   6/25/2013     14:50:59  109.099  2.462       330   \n",
       "\n",
       "       DealerTraderID  CustomerTraderID  CustomerID  DealerCount  \n",
       "0             10792.0              6549         129            5  \n",
       "1            117793.0              6549         129            5  \n",
       "2            119290.0              6549         129            5  \n",
       "3            113852.0              6549         129            5  \n",
       "4            117795.0              6549         129            5  \n",
       "...               ...               ...         ...          ...  \n",
       "19995         10792.0              7025         280            4  \n",
       "19996         10792.0              6753         204            1  \n",
       "19997         10567.0              7053         292            4  \n",
       "19998          9970.0              7025         280            4  \n",
       "19999         10189.0              7053         292            4  \n",
       "\n",
       "[20000 rows x 16 columns]"
      ]
     },
     "execution_count": 38,
     "metadata": {},
     "output_type": "execute_result"
    }
   ],
   "source": [
    "df"
   ]
  },
  {
   "cell_type": "code",
   "execution_count": 41,
   "id": "7e602550",
   "metadata": {},
   "outputs": [
    {
     "data": {
      "text/plain": [
       "Symbol              6041\n",
       "SecurityID          6041\n",
       "SecurityType        6041\n",
       "MaturityDate        6041\n",
       "IssueDate           6041\n",
       "Side                6041\n",
       "OrderQty            6041\n",
       "SettlDate           6041\n",
       "TransactTime        6041\n",
       "Price               6040\n",
       "Yield               6032\n",
       "DealerID            6041\n",
       "DealerTraderID      5685\n",
       "CustomerTraderID    6041\n",
       "CustomerID          6041\n",
       "DealerCount         6041\n",
       "dtype: int64"
      ]
     },
     "execution_count": 41,
     "metadata": {},
     "output_type": "execute_result"
    }
   ],
   "source": [
    "nonull_df=df[df['SecurityID'].notna()]\n",
    "nonull_df.count()"
   ]
  },
  {
   "cell_type": "code",
   "execution_count": 42,
   "id": "0d3a40bb",
   "metadata": {},
   "outputs": [
    {
     "name": "stdout",
     "output_type": "stream",
     "text": [
      "In  Symbol there are  0 nulls  out of  6041\n",
      "In  SecurityID there are  0 nulls  out of  6041\n",
      "In  SecurityType there are  0 nulls  out of  6041\n",
      "In  MaturityDate there are  0 nulls  out of  6041\n",
      "In  IssueDate there are  0 nulls  out of  6041\n",
      "In  Side there are  0 nulls  out of  6041\n",
      "In  OrderQty there are  0 nulls  out of  6041\n",
      "In  SettlDate there are  0 nulls  out of  6041\n",
      "In  TransactTime there are  0 nulls  out of  6041\n",
      "In  Price there are  1 nulls  out of  6040\n",
      "In  Yield there are  9 nulls  out of  6032\n",
      "In  DealerID there are  0 nulls  out of  6041\n",
      "In  DealerTraderID there are  356 nulls  out of  5685\n",
      "In  CustomerTraderID there are  0 nulls  out of  6041\n",
      "In  CustomerID there are  0 nulls  out of  6041\n",
      "In  DealerCount there are  0 nulls  out of  6041\n"
     ]
    }
   ],
   "source": [
    "for column in nonull_df.columns:\n",
    "    numnulls=nonull_df[column].isnull().sum()\n",
    "    counting_total=nonull_df[column].count()\n",
    "    print('In ', column, 'there are ', numnulls, 'nulls',' out of ',counting_total)"
   ]
  },
  {
   "cell_type": "code",
   "execution_count": 43,
   "id": "e1f8cc24",
   "metadata": {},
   "outputs": [
    {
     "data": {
      "text/plain": [
       "Symbol              5685\n",
       "SecurityID          5685\n",
       "SecurityType        5685\n",
       "MaturityDate        5685\n",
       "IssueDate           5685\n",
       "Side                5685\n",
       "OrderQty            5685\n",
       "SettlDate           5685\n",
       "TransactTime        5685\n",
       "Price               5685\n",
       "Yield               5685\n",
       "DealerID            5685\n",
       "DealerTraderID      5685\n",
       "CustomerTraderID    5685\n",
       "CustomerID          5685\n",
       "DealerCount         5685\n",
       "dtype: int64"
      ]
     },
     "execution_count": 43,
     "metadata": {},
     "output_type": "execute_result"
    }
   ],
   "source": [
    "nonull_df2=nonull_df[nonull_df['DealerTraderID'].notna()]\n",
    "nonull_df2.count()"
   ]
  },
  {
   "cell_type": "code",
   "execution_count": 44,
   "id": "d74a14c3",
   "metadata": {},
   "outputs": [
    {
     "name": "stdout",
     "output_type": "stream",
     "text": [
      "In  Symbol there are  0 nulls  out of  5685\n",
      "In  SecurityID there are  0 nulls  out of  5685\n",
      "In  SecurityType there are  0 nulls  out of  5685\n",
      "In  MaturityDate there are  0 nulls  out of  5685\n",
      "In  IssueDate there are  0 nulls  out of  5685\n",
      "In  Side there are  0 nulls  out of  5685\n",
      "In  OrderQty there are  0 nulls  out of  5685\n",
      "In  SettlDate there are  0 nulls  out of  5685\n",
      "In  TransactTime there are  0 nulls  out of  5685\n",
      "In  Price there are  0 nulls  out of  5685\n",
      "In  Yield there are  0 nulls  out of  5685\n",
      "In  DealerID there are  0 nulls  out of  5685\n",
      "In  DealerTraderID there are  0 nulls  out of  5685\n",
      "In  CustomerTraderID there are  0 nulls  out of  5685\n",
      "In  CustomerID there are  0 nulls  out of  5685\n",
      "In  DealerCount there are  0 nulls  out of  5685\n"
     ]
    }
   ],
   "source": [
    "for column in nonull_df2.columns:\n",
    "    numnulls=nonull_df2[column].isnull().sum()\n",
    "    counting_total=nonull_df2[column].count()\n",
    "    print('In ', column, 'there are ', numnulls, 'nulls',' out of ',counting_total)"
   ]
  },
  {
   "cell_type": "markdown",
   "id": "4802fc1d",
   "metadata": {},
   "source": [
    "## Step 2.5: Data Transformation: Convert all non-numeric features to numeric.\n",
    "All non-nummeric values must be changed into numeric values in order for the ML algorithim to work as it will only recognise numeric data. "
   ]
  },
  {
   "cell_type": "code",
   "execution_count": 45,
   "id": "511d34d7",
   "metadata": {},
   "outputs": [
    {
     "data": {
      "text/plain": [
       "Symbol               object\n",
       "SecurityID          float64\n",
       "SecurityType         object\n",
       "MaturityDate         object\n",
       "IssueDate            object\n",
       "Side                 object\n",
       "OrderQty              int64\n",
       "SettlDate            object\n",
       "TransactTime         object\n",
       "Price               float64\n",
       "Yield               float64\n",
       "DealerID              int64\n",
       "DealerTraderID      float64\n",
       "CustomerTraderID      int64\n",
       "CustomerID            int64\n",
       "DealerCount           int64\n",
       "dtype: object"
      ]
     },
     "execution_count": 45,
     "metadata": {},
     "output_type": "execute_result"
    }
   ],
   "source": [
    "nonull_df2.dtypes"
   ]
  },
  {
   "cell_type": "code",
   "execution_count": 46,
   "id": "edf0a61e",
   "metadata": {},
   "outputs": [
    {
     "data": {
      "text/plain": [
       "['Symbol',\n",
       " 'SecurityType',\n",
       " 'MaturityDate',\n",
       " 'IssueDate',\n",
       " 'Side',\n",
       " 'SettlDate',\n",
       " 'TransactTime']"
      ]
     },
     "execution_count": 46,
     "metadata": {},
     "output_type": "execute_result"
    }
   ],
   "source": [
    "nonnumbers=nonull_df2.select_dtypes(exclude=np.number).columns.tolist()\n",
    "nonnumbers"
   ]
  },
  {
   "cell_type": "code",
   "execution_count": 47,
   "id": "615420d5",
   "metadata": {},
   "outputs": [
    {
     "name": "stderr",
     "output_type": "stream",
     "text": [
      "C:\\Users\\Admin\\AppData\\Local\\Temp\\ipykernel_14620\\3423885166.py:3: SettingWithCopyWarning: \n",
      "A value is trying to be set on a copy of a slice from a DataFrame.\n",
      "Try using .loc[row_indexer,col_indexer] = value instead\n",
      "\n",
      "See the caveats in the documentation: https://pandas.pydata.org/pandas-docs/stable/user_guide/indexing.html#returning-a-view-versus-a-copy\n",
      "  df2['MaturityDate']=pd.to_datetime(df2['MaturityDate']).dt.strftime(\"%Y%m%d\").astype(int)\n",
      "C:\\Users\\Admin\\AppData\\Local\\Temp\\ipykernel_14620\\3423885166.py:4: SettingWithCopyWarning: \n",
      "A value is trying to be set on a copy of a slice from a DataFrame.\n",
      "Try using .loc[row_indexer,col_indexer] = value instead\n",
      "\n",
      "See the caveats in the documentation: https://pandas.pydata.org/pandas-docs/stable/user_guide/indexing.html#returning-a-view-versus-a-copy\n",
      "  df2['IssueDate']=pd.to_datetime(df2['IssueDate']).dt.strftime(\"%Y%m%d\").astype(int)\n",
      "C:\\Users\\Admin\\AppData\\Local\\Temp\\ipykernel_14620\\3423885166.py:5: SettingWithCopyWarning: \n",
      "A value is trying to be set on a copy of a slice from a DataFrame.\n",
      "Try using .loc[row_indexer,col_indexer] = value instead\n",
      "\n",
      "See the caveats in the documentation: https://pandas.pydata.org/pandas-docs/stable/user_guide/indexing.html#returning-a-view-versus-a-copy\n",
      "  df2['SettlDate']=pd.to_datetime(df2['SettlDate']).dt.strftime(\"%Y%m%d\").astype(int)\n",
      "C:\\Users\\Admin\\AppData\\Local\\Temp\\ipykernel_14620\\3423885166.py:6: SettingWithCopyWarning: \n",
      "A value is trying to be set on a copy of a slice from a DataFrame.\n",
      "Try using .loc[row_indexer,col_indexer] = value instead\n",
      "\n",
      "See the caveats in the documentation: https://pandas.pydata.org/pandas-docs/stable/user_guide/indexing.html#returning-a-view-versus-a-copy\n",
      "  df2['TransactTime']=pd.to_datetime(df2['TransactTime']).dt.strftime(\"%Y%m%d\").astype(int)\n"
     ]
    },
    {
     "data": {
      "text/html": [
       "<div>\n",
       "<style scoped>\n",
       "    .dataframe tbody tr th:only-of-type {\n",
       "        vertical-align: middle;\n",
       "    }\n",
       "\n",
       "    .dataframe tbody tr th {\n",
       "        vertical-align: top;\n",
       "    }\n",
       "\n",
       "    .dataframe thead th {\n",
       "        text-align: right;\n",
       "    }\n",
       "</style>\n",
       "<table border=\"1\" class=\"dataframe\">\n",
       "  <thead>\n",
       "    <tr style=\"text-align: right;\">\n",
       "      <th></th>\n",
       "      <th>Symbol</th>\n",
       "      <th>SecurityID</th>\n",
       "      <th>SecurityType</th>\n",
       "      <th>MaturityDate</th>\n",
       "      <th>IssueDate</th>\n",
       "      <th>Side</th>\n",
       "      <th>OrderQty</th>\n",
       "      <th>SettlDate</th>\n",
       "      <th>TransactTime</th>\n",
       "      <th>Price</th>\n",
       "      <th>Yield</th>\n",
       "      <th>DealerID</th>\n",
       "      <th>DealerTraderID</th>\n",
       "      <th>CustomerTraderID</th>\n",
       "      <th>CustomerID</th>\n",
       "      <th>DealerCount</th>\n",
       "    </tr>\n",
       "  </thead>\n",
       "  <tbody>\n",
       "    <tr>\n",
       "      <th>6204</th>\n",
       "      <td>135087D35</td>\n",
       "      <td>1657312.0</td>\n",
       "      <td>GOC</td>\n",
       "      <td>20481201</td>\n",
       "      <td>20140602</td>\n",
       "      <td>BUY</td>\n",
       "      <td>1000000</td>\n",
       "      <td>20180620</td>\n",
       "      <td>20221013</td>\n",
       "      <td>111.140</td>\n",
       "      <td>2.243</td>\n",
       "      <td>334</td>\n",
       "      <td>113683.0</td>\n",
       "      <td>11570</td>\n",
       "      <td>454</td>\n",
       "      <td>4</td>\n",
       "    </tr>\n",
       "    <tr>\n",
       "      <th>6205</th>\n",
       "      <td>135087D35</td>\n",
       "      <td>1657312.0</td>\n",
       "      <td>GOC</td>\n",
       "      <td>20481201</td>\n",
       "      <td>20140602</td>\n",
       "      <td>BUY</td>\n",
       "      <td>1000000</td>\n",
       "      <td>20180620</td>\n",
       "      <td>20221013</td>\n",
       "      <td>111.220</td>\n",
       "      <td>2.240</td>\n",
       "      <td>335</td>\n",
       "      <td>114347.0</td>\n",
       "      <td>11570</td>\n",
       "      <td>454</td>\n",
       "      <td>4</td>\n",
       "    </tr>\n",
       "    <tr>\n",
       "      <th>6206</th>\n",
       "      <td>135087H80</td>\n",
       "      <td>1657313.0</td>\n",
       "      <td>GOC</td>\n",
       "      <td>20200501</td>\n",
       "      <td>20180209</td>\n",
       "      <td>SELL</td>\n",
       "      <td>5000000</td>\n",
       "      <td>20180620</td>\n",
       "      <td>20221013</td>\n",
       "      <td>99.760</td>\n",
       "      <td>1.881</td>\n",
       "      <td>323</td>\n",
       "      <td>118599.0</td>\n",
       "      <td>6753</td>\n",
       "      <td>204</td>\n",
       "      <td>1</td>\n",
       "    </tr>\n",
       "    <tr>\n",
       "      <th>6207</th>\n",
       "      <td>135087D35</td>\n",
       "      <td>1657317.0</td>\n",
       "      <td>GOC</td>\n",
       "      <td>20481201</td>\n",
       "      <td>20140602</td>\n",
       "      <td>BUY</td>\n",
       "      <td>1250000</td>\n",
       "      <td>20180620</td>\n",
       "      <td>20221013</td>\n",
       "      <td>111.198</td>\n",
       "      <td>2.241</td>\n",
       "      <td>321</td>\n",
       "      <td>7177.0</td>\n",
       "      <td>6687</td>\n",
       "      <td>178</td>\n",
       "      <td>4</td>\n",
       "    </tr>\n",
       "    <tr>\n",
       "      <th>6208</th>\n",
       "      <td>135087D35</td>\n",
       "      <td>1657317.0</td>\n",
       "      <td>GOC</td>\n",
       "      <td>20481201</td>\n",
       "      <td>20140602</td>\n",
       "      <td>BUY</td>\n",
       "      <td>1250000</td>\n",
       "      <td>20180620</td>\n",
       "      <td>20221013</td>\n",
       "      <td>111.130</td>\n",
       "      <td>2.244</td>\n",
       "      <td>327</td>\n",
       "      <td>7687.0</td>\n",
       "      <td>6687</td>\n",
       "      <td>178</td>\n",
       "      <td>4</td>\n",
       "    </tr>\n",
       "    <tr>\n",
       "      <th>...</th>\n",
       "      <td>...</td>\n",
       "      <td>...</td>\n",
       "      <td>...</td>\n",
       "      <td>...</td>\n",
       "      <td>...</td>\n",
       "      <td>...</td>\n",
       "      <td>...</td>\n",
       "      <td>...</td>\n",
       "      <td>...</td>\n",
       "      <td>...</td>\n",
       "      <td>...</td>\n",
       "      <td>...</td>\n",
       "      <td>...</td>\n",
       "      <td>...</td>\n",
       "      <td>...</td>\n",
       "      <td>...</td>\n",
       "    </tr>\n",
       "    <tr>\n",
       "      <th>19995</th>\n",
       "      <td>135087A38</td>\n",
       "      <td>147039.0</td>\n",
       "      <td>GOC</td>\n",
       "      <td>20150801</td>\n",
       "      <td>20130426</td>\n",
       "      <td>SELL</td>\n",
       "      <td>12000000</td>\n",
       "      <td>20130624</td>\n",
       "      <td>20221013</td>\n",
       "      <td>100.651</td>\n",
       "      <td>1.186</td>\n",
       "      <td>334</td>\n",
       "      <td>10792.0</td>\n",
       "      <td>7025</td>\n",
       "      <td>280</td>\n",
       "      <td>4</td>\n",
       "    </tr>\n",
       "    <tr>\n",
       "      <th>19996</th>\n",
       "      <td>135087A38</td>\n",
       "      <td>147038.0</td>\n",
       "      <td>GOC</td>\n",
       "      <td>20150801</td>\n",
       "      <td>20130426</td>\n",
       "      <td>BUY</td>\n",
       "      <td>50000000</td>\n",
       "      <td>20130624</td>\n",
       "      <td>20221013</td>\n",
       "      <td>100.653</td>\n",
       "      <td>1.185</td>\n",
       "      <td>334</td>\n",
       "      <td>10792.0</td>\n",
       "      <td>6753</td>\n",
       "      <td>204</td>\n",
       "      <td>1</td>\n",
       "    </tr>\n",
       "    <tr>\n",
       "      <th>19997</th>\n",
       "      <td>013051CZ8</td>\n",
       "      <td>147033.0</td>\n",
       "      <td>PROV</td>\n",
       "      <td>20191201</td>\n",
       "      <td>20090928</td>\n",
       "      <td>SELL</td>\n",
       "      <td>700000</td>\n",
       "      <td>20130625</td>\n",
       "      <td>20221013</td>\n",
       "      <td>109.000</td>\n",
       "      <td>2.478</td>\n",
       "      <td>332</td>\n",
       "      <td>10567.0</td>\n",
       "      <td>7053</td>\n",
       "      <td>292</td>\n",
       "      <td>4</td>\n",
       "    </tr>\n",
       "    <tr>\n",
       "      <th>19998</th>\n",
       "      <td>135087A38</td>\n",
       "      <td>147039.0</td>\n",
       "      <td>GOC</td>\n",
       "      <td>20150801</td>\n",
       "      <td>20130426</td>\n",
       "      <td>SELL</td>\n",
       "      <td>12000000</td>\n",
       "      <td>20130624</td>\n",
       "      <td>20221013</td>\n",
       "      <td>100.645</td>\n",
       "      <td>1.189</td>\n",
       "      <td>330</td>\n",
       "      <td>9970.0</td>\n",
       "      <td>7025</td>\n",
       "      <td>280</td>\n",
       "      <td>4</td>\n",
       "    </tr>\n",
       "    <tr>\n",
       "      <th>19999</th>\n",
       "      <td>013051CZ8</td>\n",
       "      <td>147033.0</td>\n",
       "      <td>PROV</td>\n",
       "      <td>20191201</td>\n",
       "      <td>20090928</td>\n",
       "      <td>SELL</td>\n",
       "      <td>700000</td>\n",
       "      <td>20130625</td>\n",
       "      <td>20221013</td>\n",
       "      <td>109.099</td>\n",
       "      <td>2.462</td>\n",
       "      <td>330</td>\n",
       "      <td>10189.0</td>\n",
       "      <td>7053</td>\n",
       "      <td>292</td>\n",
       "      <td>4</td>\n",
       "    </tr>\n",
       "  </tbody>\n",
       "</table>\n",
       "<p>5685 rows × 16 columns</p>\n",
       "</div>"
      ],
      "text/plain": [
       "          Symbol  SecurityID SecurityType  MaturityDate  IssueDate  Side  \\\n",
       "6204   135087D35   1657312.0          GOC      20481201   20140602   BUY   \n",
       "6205   135087D35   1657312.0          GOC      20481201   20140602   BUY   \n",
       "6206   135087H80   1657313.0          GOC      20200501   20180209  SELL   \n",
       "6207   135087D35   1657317.0          GOC      20481201   20140602   BUY   \n",
       "6208   135087D35   1657317.0          GOC      20481201   20140602   BUY   \n",
       "...          ...         ...          ...           ...        ...   ...   \n",
       "19995  135087A38    147039.0          GOC      20150801   20130426  SELL   \n",
       "19996  135087A38    147038.0          GOC      20150801   20130426   BUY   \n",
       "19997  013051CZ8    147033.0         PROV      20191201   20090928  SELL   \n",
       "19998  135087A38    147039.0          GOC      20150801   20130426  SELL   \n",
       "19999  013051CZ8    147033.0         PROV      20191201   20090928  SELL   \n",
       "\n",
       "       OrderQty  SettlDate  TransactTime    Price  Yield  DealerID  \\\n",
       "6204    1000000   20180620      20221013  111.140  2.243       334   \n",
       "6205    1000000   20180620      20221013  111.220  2.240       335   \n",
       "6206    5000000   20180620      20221013   99.760  1.881       323   \n",
       "6207    1250000   20180620      20221013  111.198  2.241       321   \n",
       "6208    1250000   20180620      20221013  111.130  2.244       327   \n",
       "...         ...        ...           ...      ...    ...       ...   \n",
       "19995  12000000   20130624      20221013  100.651  1.186       334   \n",
       "19996  50000000   20130624      20221013  100.653  1.185       334   \n",
       "19997    700000   20130625      20221013  109.000  2.478       332   \n",
       "19998  12000000   20130624      20221013  100.645  1.189       330   \n",
       "19999    700000   20130625      20221013  109.099  2.462       330   \n",
       "\n",
       "       DealerTraderID  CustomerTraderID  CustomerID  DealerCount  \n",
       "6204         113683.0             11570         454            4  \n",
       "6205         114347.0             11570         454            4  \n",
       "6206         118599.0              6753         204            1  \n",
       "6207           7177.0              6687         178            4  \n",
       "6208           7687.0              6687         178            4  \n",
       "...               ...               ...         ...          ...  \n",
       "19995         10792.0              7025         280            4  \n",
       "19996         10792.0              6753         204            1  \n",
       "19997         10567.0              7053         292            4  \n",
       "19998          9970.0              7025         280            4  \n",
       "19999         10189.0              7053         292            4  \n",
       "\n",
       "[5685 rows x 16 columns]"
      ]
     },
     "execution_count": 47,
     "metadata": {},
     "output_type": "execute_result"
    }
   ],
   "source": [
    "df2=nonull_df2\n",
    "\n",
    "df2['MaturityDate']=pd.to_datetime(df2['MaturityDate']).dt.strftime(\"%Y%m%d\").astype(int)\n",
    "df2['IssueDate']=pd.to_datetime(df2['IssueDate']).dt.strftime(\"%Y%m%d\").astype(int)\n",
    "df2['SettlDate']=pd.to_datetime(df2['SettlDate']).dt.strftime(\"%Y%m%d\").astype(int)\n",
    "df2['TransactTime']=pd.to_datetime(df2['TransactTime']).dt.strftime(\"%Y%m%d\").astype(int)\n",
    "df2\n"
   ]
  },
  {
   "cell_type": "code",
   "execution_count": 48,
   "id": "8fbacc55",
   "metadata": {},
   "outputs": [
    {
     "name": "stderr",
     "output_type": "stream",
     "text": [
      "C:\\Users\\Admin\\AppData\\Local\\Temp\\ipykernel_14620\\1108028688.py:7: SettingWithCopyWarning: \n",
      "A value is trying to be set on a copy of a slice from a DataFrame.\n",
      "Try using .loc[row_indexer,col_indexer] = value instead\n",
      "\n",
      "See the caveats in the documentation: https://pandas.pydata.org/pandas-docs/stable/user_guide/indexing.html#returning-a-view-versus-a-copy\n",
      "  df2['Symbol']=df2['Symbol'].replace(mapper)\n"
     ]
    },
    {
     "data": {
      "text/plain": [
       "6204       1\n",
       "6205       1\n",
       "6206       2\n",
       "6207       1\n",
       "6208       1\n",
       "        ... \n",
       "19995    150\n",
       "19996    150\n",
       "19997    304\n",
       "19998    150\n",
       "19999    304\n",
       "Name: Symbol, Length: 5685, dtype: int64"
      ]
     },
     "execution_count": 48,
     "metadata": {},
     "output_type": "execute_result"
    }
   ],
   "source": [
    "values=df2['Symbol'].unique()\n",
    "mapper={}\n",
    "counter=0\n",
    "for x in values:\n",
    "    counter=counter+1\n",
    "    mapper[x]=counter\n",
    "df2['Symbol']=df2['Symbol'].replace(mapper)\n",
    "df2['Symbol']"
   ]
  },
  {
   "cell_type": "code",
   "execution_count": 51,
   "id": "2b4410c9",
   "metadata": {},
   "outputs": [
    {
     "name": "stdout",
     "output_type": "stream",
     "text": [
      "In Symbol  there are  304  out of  5685\n",
      "In SecurityID  there are  1883  out of  5685\n",
      "In SecurityType  there are  3  out of  5685\n",
      "In MaturityDate  there are  245  out of  5685\n",
      "In IssueDate  there are  301  out of  5685\n",
      "In Side  there are  2  out of  5685\n",
      "In OrderQty  there are  504  out of  5685\n",
      "In SettlDate  there are  46  out of  5685\n",
      "In TransactTime  there are  1  out of  5685\n",
      "In Price  there are  4225  out of  5685\n",
      "In Yield  there are  2178  out of  5685\n",
      "In DealerID  there are  14  out of  5685\n",
      "In DealerTraderID  there are  131  out of  5685\n",
      "In CustomerTraderID  there are  251  out of  5685\n",
      "In CustomerID  there are  135  out of  5685\n",
      "In DealerCount  there are  5  out of  5685\n"
     ]
    }
   ],
   "source": [
    "for column in df2.columns:\n",
    "    counter=df2[column].count()\n",
    "    uniquevalue=len(df2[column].unique())\n",
    "    print('In', column, ' there are ',uniquevalue,' out of ',counter)"
   ]
  },
  {
   "cell_type": "code",
   "execution_count": 52,
   "id": "1e3ce90b",
   "metadata": {},
   "outputs": [
    {
     "data": {
      "text/plain": [
       "array(['GOC', 'PROV', 'CMB'], dtype=object)"
      ]
     },
     "execution_count": 52,
     "metadata": {},
     "output_type": "execute_result"
    }
   ],
   "source": [
    "df2['SecurityType'].unique()"
   ]
  },
  {
   "cell_type": "code",
   "execution_count": 53,
   "id": "d410efbb",
   "metadata": {},
   "outputs": [
    {
     "name": "stderr",
     "output_type": "stream",
     "text": [
      "C:\\Users\\Admin\\AppData\\Local\\Temp\\ipykernel_14620\\3005168377.py:2: SettingWithCopyWarning: \n",
      "A value is trying to be set on a copy of a slice from a DataFrame.\n",
      "Try using .loc[row_indexer,col_indexer] = value instead\n",
      "\n",
      "See the caveats in the documentation: https://pandas.pydata.org/pandas-docs/stable/user_guide/indexing.html#returning-a-view-versus-a-copy\n",
      "  df2['SecurityType']=df2['SecurityType'].replace(mapper)\n"
     ]
    },
    {
     "data": {
      "text/plain": [
       "6204     5\n",
       "6205     5\n",
       "6206     5\n",
       "6207     5\n",
       "6208     5\n",
       "        ..\n",
       "19995    5\n",
       "19996    5\n",
       "19997    6\n",
       "19998    5\n",
       "19999    6\n",
       "Name: SecurityType, Length: 5685, dtype: int64"
      ]
     },
     "execution_count": 53,
     "metadata": {},
     "output_type": "execute_result"
    }
   ],
   "source": [
    "mapper={'GOC': 5, 'PROV': 6, 'CMB': 7}\n",
    "df2['SecurityType']=df2['SecurityType'].replace(mapper)\n",
    "df2['SecurityType']"
   ]
  },
  {
   "cell_type": "code",
   "execution_count": 54,
   "id": "3d20e1ce",
   "metadata": {},
   "outputs": [
    {
     "data": {
      "text/plain": [
       "array(['BUY', 'SELL'], dtype=object)"
      ]
     },
     "execution_count": 54,
     "metadata": {},
     "output_type": "execute_result"
    }
   ],
   "source": [
    "df2['Side'].unique()"
   ]
  },
  {
   "cell_type": "code",
   "execution_count": 55,
   "id": "1f82ad50",
   "metadata": {},
   "outputs": [
    {
     "name": "stderr",
     "output_type": "stream",
     "text": [
      "C:\\Users\\Admin\\AppData\\Local\\Temp\\ipykernel_14620\\1371882689.py:2: SettingWithCopyWarning: \n",
      "A value is trying to be set on a copy of a slice from a DataFrame.\n",
      "Try using .loc[row_indexer,col_indexer] = value instead\n",
      "\n",
      "See the caveats in the documentation: https://pandas.pydata.org/pandas-docs/stable/user_guide/indexing.html#returning-a-view-versus-a-copy\n",
      "  df2['Side']=df2['Side'].replace(mapper)\n"
     ]
    },
    {
     "data": {
      "text/plain": [
       "6204     8\n",
       "6205     8\n",
       "6206     9\n",
       "6207     8\n",
       "6208     8\n",
       "        ..\n",
       "19995    9\n",
       "19996    8\n",
       "19997    9\n",
       "19998    9\n",
       "19999    9\n",
       "Name: Side, Length: 5685, dtype: int64"
      ]
     },
     "execution_count": 55,
     "metadata": {},
     "output_type": "execute_result"
    }
   ],
   "source": [
    "mapper={'BUY': 8, 'SELL': 9}\n",
    "df2['Side']=df2['Side'].replace(mapper)\n",
    "df2['Side']"
   ]
  },
  {
   "cell_type": "code",
   "execution_count": 56,
   "id": "56ee52fc",
   "metadata": {},
   "outputs": [
    {
     "data": {
      "text/plain": [
       "[]"
      ]
     },
     "execution_count": 56,
     "metadata": {},
     "output_type": "execute_result"
    }
   ],
   "source": [
    "nonnumbers1=df2.select_dtypes(exclude=np.number).columns.tolist()\n",
    "nonnumbers1"
   ]
  },
  {
   "cell_type": "markdown",
   "id": "4b9d8884",
   "metadata": {},
   "source": [
    "## Step 3: Model Training and Testing\n",
    "\n",
    "The trainting split the df is split into 80% for training and 20% for testing. The training data will be compared against the testing data to make an estimation on the acccuracy of the ML model."
   ]
  },
  {
   "cell_type": "code",
   "execution_count": 58,
   "id": "a0c4fb85",
   "metadata": {},
   "outputs": [],
   "source": [
    "from sklearn.model_selection import train_test_split\n",
    "from sklearn.ensemble import RandomForestRegressor\n",
    "from sklearn.preprocessing import LabelBinarizer\n",
    "\n",
    "P=df2.loc[:,df2.columns=='Price']\n",
    "O=df2.loc[:,df2.columns!='Price']\n",
    "\n",
    "O_train, O_test, P_train, P_test=train_test_split(O,P,test_size=0.2,random_state=0)\n",
    "\n",
    "\n"
   ]
  },
  {
   "cell_type": "code",
   "execution_count": 1,
   "id": "dbc98888",
   "metadata": {},
   "outputs": [],
   "source": [
    "from sklearn.cluster import KMeans "
   ]
  },
  {
   "cell_type": "code",
   "execution_count": 60,
   "id": "33154fc3",
   "metadata": {},
   "outputs": [
    {
     "name": "stderr",
     "output_type": "stream",
     "text": [
      "C:\\Users\\Admin\\AppData\\Local\\Temp\\ipykernel_14620\\1127778916.py:2: DataConversionWarning: A column-vector y was passed when a 1d array was expected. Please change the shape of y to (n_samples,), for example using ravel().\n",
      "  regressor.fit(O_train,P_train)\n"
     ]
    },
    {
     "data": {
      "text/plain": [
       "RandomForestRegressor()"
      ]
     },
     "execution_count": 60,
     "metadata": {},
     "output_type": "execute_result"
    }
   ],
   "source": [
    "regressor=RandomForestRegressor(n_estimators=100)\n",
    "regressor.fit(O_train,P_train)"
   ]
  },
  {
   "cell_type": "code",
   "execution_count": 61,
   "id": "e38255b4",
   "metadata": {},
   "outputs": [
    {
     "data": {
      "text/plain": [
       "array([100.40053, 131.64156, 111.04353, ..., 103.47025, 136.05894,\n",
       "       114.4202 ])"
      ]
     },
     "execution_count": 61,
     "metadata": {},
     "output_type": "execute_result"
    }
   ],
   "source": [
    "P_predict=regressor.predict(O_test)\n",
    "P_predict"
   ]
  },
  {
   "cell_type": "code",
   "execution_count": 62,
   "id": "97110232",
   "metadata": {},
   "outputs": [
    {
     "name": "stdout",
     "output_type": "stream",
     "text": [
      "0.996182632793788\n"
     ]
    }
   ],
   "source": [
    "from sklearn import metrics\n",
    "print(metrics.r2_score(P_test,P_predict))"
   ]
  },
  {
   "cell_type": "markdown",
   "id": "9e5e2d03",
   "metadata": {},
   "source": [
    "## Conclusion\n",
    "\n",
    "With a prediction score of .996 we can say the model is very well suited and will give very good predictions based on the regression equation built by the machine learning model. Some might claim the model is bias based on how close the score is to 1 but as the machine algorithim is random in it's train/test split this claim is not true. "
   ]
  }
 ],
 "metadata": {
  "kernelspec": {
   "display_name": "Python 3 (ipykernel)",
   "language": "python",
   "name": "python3"
  },
  "language_info": {
   "codemirror_mode": {
    "name": "ipython",
    "version": 3
   },
   "file_extension": ".py",
   "mimetype": "text/x-python",
   "name": "python",
   "nbconvert_exporter": "python",
   "pygments_lexer": "ipython3",
   "version": "3.9.12"
  }
 },
 "nbformat": 4,
 "nbformat_minor": 5
}
